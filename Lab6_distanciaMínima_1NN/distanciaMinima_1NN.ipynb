{
 "cells": [
  {
   "cell_type": "markdown",
   "id": "79deb9fe-f8ff-4903-a8cf-94eb677554af",
   "metadata": {},
   "source": [
    "# Lab 6 Clasificadores de la distancia mínima y 1NN"
   ]
  },
  {
   "cell_type": "code",
   "execution_count": 1,
   "id": "3d509134-d8e0-45d8-bfdd-0bd26beed595",
   "metadata": {},
   "outputs": [],
   "source": [
    "import pandas as pd\n",
    "from sklearn.model_selection import train_test_split\n",
    "from sklearn.model_selection import StratifiedKFold\n",
    "from sklearn.model_selection import LeaveOneOut"
   ]
  },
  {
   "cell_type": "code",
   "execution_count": 2,
   "id": "4b9d5a1b",
   "metadata": {},
   "outputs": [],
   "source": [
    "iris = pd.read_csv('iris_clean.csv')\n",
    "creditCard = pd.read_csv('creditCard_clean.csv')\n",
    "obesity = pd.read_csv('obesity_clean.csv')"
   ]
  },
  {
   "cell_type": "code",
   "execution_count": 3,
   "id": "bf1ee8a0",
   "metadata": {},
   "outputs": [],
   "source": [
    "featuresIris = iris[['sepal length','sepal width','petal length','petal width','class_encoded']]\n",
    "featuresCredit = creditCard[['Debt','Married','Industry_encoded','YearsEmployed','PriorDefault','Employed','CreditScore','Approved']]\n",
    "featureObesity = obesity[['Height','Weight','BMI','ObesityCategory_encoded']]"
   ]
  },
  {
   "cell_type": "markdown",
   "id": "1e5f0f20-5d00-4c12-a648-a2508c6e2bc8",
   "metadata": {},
   "source": [
    "## Metodos de validacion"
   ]
  },
  {
   "cell_type": "markdown",
   "id": "23e54a2d-3a29-4e38-995d-7f49f2d99f87",
   "metadata": {},
   "source": [
    "### Holdout"
   ]
  },
  {
   "cell_type": "code",
   "execution_count": 4,
   "id": "dccfc145-38cf-4828-bb24-f6f4555c1fd3",
   "metadata": {},
   "outputs": [],
   "source": [
    "def holdout_validation(X,y,r):\n",
    "    X_train, X_test, y_train, y_test = train_test_split(X, y, test_size=0.3,stratify=y,random_state=42)\n",
    "    return X_train, X_test, y_train, y_test"
   ]
  },
  {
   "cell_type": "markdown",
   "id": "f1400c00-bbb1-4723-812f-d7e389adf0c8",
   "metadata": {},
   "source": [
    "### Fold Cross-Validation"
   ]
  },
  {
   "cell_type": "code",
   "execution_count": 5,
   "id": "bf0af6a6-39be-482a-b0c8-3d97c1c6e85c",
   "metadata": {},
   "outputs": [],
   "source": [
    "def k_fold_cross_validation(X, y, K=10):\n",
    "    skf = StratifiedKFold(n_splits=K, shuffle=True, random_state=42)\n",
    "    \n",
    "    folds = []\n",
    "\n",
    "    for train_index, test_index in skf.split(X):\n",
    "        X_train, X_test = X.iloc[train_index], X.iloc[test_index]\n",
    "        y_train, y_test = y.iloc[train_index], y.iloc[test_index]\n",
    "        \n",
    "        folds.append((X_train, X_test, y_train, y_test))\n",
    "    \n",
    "    return folds"
   ]
  },
  {
   "cell_type": "markdown",
   "id": "9aff2403-6919-4d7c-9682-51d9a65502ff",
   "metadata": {},
   "source": [
    "### Leave-One-Out."
   ]
  },
  {
   "cell_type": "code",
   "execution_count": 6,
   "id": "17bb86b7-832d-4f4e-b82c-c8f73bc418c4",
   "metadata": {},
   "outputs": [],
   "source": [
    "def leave_one_out_validation(X, y):\n",
    "    loo = LeaveOneOut()\n",
    "    leaveVali = []\n",
    "    \n",
    "    for train_index, test_index in loo.split(X):\n",
    "        X_train, X_test = X.iloc[train_index], X.iloc[test_index]\n",
    "        y_train, y_test = y.iloc[train_index], y.iloc[test_index]\n",
    "        \n",
    "        leaveVali.append((X_train, X_test, y_train, y_test))\n",
    "\n",
    "    return leaveVali"
   ]
  },
  {
   "cell_type": "markdown",
   "id": "e60ad5d1-52a9-4dda-97bb-fdb3a2507355",
   "metadata": {},
   "source": [
    "## Clasificador de distancia minima"
   ]
  },
  {
   "cell_type": "code",
   "execution_count": 7,
   "id": "58645ba8-9c38-4d82-a1a6-5a0a39e4e80c",
   "metadata": {},
   "outputs": [],
   "source": [
    "# Aqui va la logica de la distancia minima sin biblioteca"
   ]
  },
  {
   "cell_type": "markdown",
   "id": "a4758ac7-48b0-4909-b330-15f353ee6f23",
   "metadata": {},
   "source": [
    "## Clasificador 1NN"
   ]
  },
  {
   "cell_type": "code",
   "execution_count": 8,
   "id": "d3d6321f-256e-4ecb-8c2c-89a4a3e0e89f",
   "metadata": {},
   "outputs": [],
   "source": [
    "# Aqui va el algoritmo de 1NN"
   ]
  },
  {
   "cell_type": "code",
   "execution_count": null,
   "id": "2d0a3f68-e756-44fe-94b6-e72634024497",
   "metadata": {},
   "outputs": [],
   "source": []
  }
 ],
 "metadata": {
  "kernelspec": {
   "display_name": "Python (myenv)",
   "language": "python",
   "name": "venv"
  },
  "language_info": {
   "codemirror_mode": {
    "name": "ipython",
    "version": 3
   },
   "file_extension": ".py",
   "mimetype": "text/x-python",
   "name": "python",
   "nbconvert_exporter": "python",
   "pygments_lexer": "ipython3",
   "version": "3.12.7"
  }
 },
 "nbformat": 4,
 "nbformat_minor": 5
}
