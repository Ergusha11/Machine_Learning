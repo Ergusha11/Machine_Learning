{
 "cells": [
  {
   "cell_type": "markdown",
   "id": "79deb9fe-f8ff-4903-a8cf-94eb677554af",
   "metadata": {},
   "source": [
    "# Lab 6 Clasificadores de la distancia mínima y 1NN"
   ]
  },
  {
   "cell_type": "code",
   "execution_count": 1,
   "id": "3d509134-d8e0-45d8-bfdd-0bd26beed595",
   "metadata": {},
   "outputs": [],
   "source": [
    "import pandas as pd\n",
    "import numpy as np\n",
    "from sklearn.model_selection import train_test_split\n",
    "from sklearn.model_selection import StratifiedKFold\n",
    "from sklearn.model_selection import LeaveOneOut\n",
    "from sklearn.metrics import confusion_matrix, accuracy_score"
   ]
  },
  {
   "cell_type": "code",
   "execution_count": 2,
   "id": "4b9d5a1b",
   "metadata": {},
   "outputs": [],
   "source": [
    "iris = pd.read_csv('iris_clean.csv')\n",
    "creditCard = pd.read_csv('creditCard_clean.csv')\n",
    "obesity = pd.read_csv('obesity_clean.csv')"
   ]
  },
  {
   "cell_type": "code",
   "execution_count": 3,
   "id": "bf1ee8a0",
   "metadata": {},
   "outputs": [],
   "source": [
    "featuresIris = iris[['sepal length','sepal width','petal length','petal width','class_encoded']]\n",
    "featuresCredit = creditCard[['Debt','Married','Industry_encoded','YearsEmployed','PriorDefault','Employed','CreditScore','Approved']]\n",
    "featuresObesity = obesity[['Height','Weight','BMI','ObesityCategory_encoded']]"
   ]
  },
  {
   "cell_type": "markdown",
   "id": "1e5f0f20-5d00-4c12-a648-a2508c6e2bc8",
   "metadata": {},
   "source": [
    "## Metodos de validacion"
   ]
  },
  {
   "cell_type": "markdown",
   "id": "23e54a2d-3a29-4e38-995d-7f49f2d99f87",
   "metadata": {},
   "source": [
    "### Holdout"
   ]
  },
  {
   "cell_type": "code",
   "execution_count": 4,
   "id": "dccfc145-38cf-4828-bb24-f6f4555c1fd3",
   "metadata": {},
   "outputs": [],
   "source": [
    "def holdout_validation(X,y):\n",
    "    X_train, X_test, y_train, y_test = train_test_split(X, y, test_size=0.3,stratify=y,random_state=42)\n",
    "    return X_train, X_test, y_train, y_test"
   ]
  },
  {
   "cell_type": "markdown",
   "id": "f1400c00-bbb1-4723-812f-d7e389adf0c8",
   "metadata": {},
   "source": [
    "### Fold Cross-Validation"
   ]
  },
  {
   "cell_type": "code",
   "execution_count": 5,
   "id": "bf0af6a6-39be-482a-b0c8-3d97c1c6e85c",
   "metadata": {},
   "outputs": [],
   "source": [
    "def k_fold_cross_validation(X, y, K=10):\n",
    "    skf = StratifiedKFold(n_splits=K, shuffle=True, random_state=42)\n",
    "    \n",
    "    folds = []\n",
    "\n",
    "    for train_index, test_index in skf.split(X,y):\n",
    "        X_train, X_test = X.iloc[train_index], X.iloc[test_index]\n",
    "        y_train, y_test = y.iloc[train_index], y.iloc[test_index]\n",
    "        \n",
    "        folds.append((X_train, X_test, y_train, y_test))\n",
    "    \n",
    "    return folds"
   ]
  },
  {
   "cell_type": "markdown",
   "id": "9aff2403-6919-4d7c-9682-51d9a65502ff",
   "metadata": {},
   "source": [
    "### Leave-One-Out."
   ]
  },
  {
   "cell_type": "code",
   "execution_count": 6,
   "id": "17bb86b7-832d-4f4e-b82c-c8f73bc418c4",
   "metadata": {},
   "outputs": [],
   "source": [
    "def leave_one_out_validation(X, y):\n",
    "    loo = LeaveOneOut()\n",
    "    leaveVali = []\n",
    "    \n",
    "    for train_index, test_index in loo.split(X):\n",
    "        X_train, X_test = X.iloc[train_index], X.iloc[test_index]\n",
    "        y_train, y_test = y.iloc[train_index], y.iloc[test_index]\n",
    "        \n",
    "        leaveVali.append((X_train, X_test, y_train, y_test))\n",
    "\n",
    "    return leaveVali"
   ]
  },
  {
   "cell_type": "markdown",
   "id": "e60ad5d1-52a9-4dda-97bb-fdb3a2507355",
   "metadata": {},
   "source": [
    "## Clasificador de distancia minima"
   ]
  },
  {
   "cell_type": "code",
   "execution_count": 7,
   "id": "58645ba8-9c38-4d82-a1a6-5a0a39e4e80c",
   "metadata": {},
   "outputs": [],
   "source": [
    "# Aqui va la logica de la distancia minima sin biblioteca"
   ]
  },
  {
   "cell_type": "markdown",
   "id": "a4758ac7-48b0-4909-b330-15f353ee6f23",
   "metadata": {},
   "source": [
    "## Clasificador 1NN"
   ]
  },
  {
   "cell_type": "code",
   "execution_count": 8,
   "id": "d3d6321f-256e-4ecb-8c2c-89a4a3e0e89f",
   "metadata": {},
   "outputs": [],
   "source": [
    "from sklearn.neighbors import KNeighborsClassifier\n",
    "# Crear el clasificador 1NN\n",
    "knn = KNeighborsClassifier(n_neighbors=1)"
   ]
  },
  {
   "cell_type": "code",
   "execution_count": 9,
   "id": "2d0a3f68-e756-44fe-94b6-e72634024497",
   "metadata": {},
   "outputs": [
    {
     "name": "stdout",
     "output_type": "stream",
     "text": [
      "Matriz de Confusión - Holdout:\n",
      "[[15  0  0]\n",
      " [ 0 15  0]\n",
      " [ 0  3 12]]\n",
      "Precisión - Holdout: 0.9333333333333333\n",
      "\n",
      "Matriz de Confusión - K-Fold (Acumulada):\n",
      "[[50.  0.  0.]\n",
      " [ 0. 47.  3.]\n",
      " [ 0.  3. 47.]]\n",
      "Precisión Promedio - K-Fold: 0.9600000000000002\n",
      "\n",
      "Matriz de Confusión - Leave-One-Out (Acumulada):\n",
      "[[50.  0.  0.]\n",
      " [ 0. 47.  3.]\n",
      " [ 0.  3. 47.]]\n",
      "Precisión Promedio - Leave-One-Out: 0.96\n"
     ]
    }
   ],
   "source": [
    "X = featuresIris[['sepal length','sepal width','petal length','petal width']]\n",
    "Y = featuresIris['class_encoded']\n",
    "# Validacion con holdout\n",
    "irisX_train, irisX_test,irisY_train,irisY_test = holdout_validation(X,Y)\n",
    "knn.fit(irisX_train, irisY_train)\n",
    "predictionsHold = knn.predict(irisX_test)\n",
    "\n",
    "conf_matrix_holdout = confusion_matrix(irisY_test, predictionsHold)\n",
    "accuracy_holdout = accuracy_score(irisY_test, predictionsHold)\n",
    "\n",
    "print(\"Matriz de Confusión - Holdout:\")\n",
    "print(conf_matrix_holdout)\n",
    "print(\"Precisión - Holdout:\", accuracy_holdout)\n",
    "\n",
    "# Validacion con Fold\n",
    "folds = k_fold_cross_validation(X,Y)\n",
    "conf_matrix_kfold = np.zeros((len(set(Y)), len(set(Y))))\n",
    "accuracy_kfold = []\n",
    "for irisX_train, irisX_test,irisY_train,irisY_test in folds:\n",
    "    knn.fit(irisX_train,irisY_train)\n",
    "    predictionsFold = knn.predict(irisX_test)\n",
    "    conf_matrix_kfold += confusion_matrix(irisY_test, predictionsFold)\n",
    "    accuracy_kfold.append(accuracy_score(irisY_test, predictionsFold))\n",
    "\n",
    "average_accuracy_kfold = np.mean(accuracy_kfold)\n",
    "\n",
    "print(\"\\nMatriz de Confusión - K-Fold (Acumulada):\")\n",
    "print(conf_matrix_kfold)\n",
    "print(\"Precisión Promedio - K-Fold:\", average_accuracy_kfold)\n",
    "\n",
    "\n",
    "# Validacion con Leave-One-Out\n",
    "\n",
    "num_clases = len(set(Y))\n",
    "conf_matrix_leave_one_out = np.zeros((num_clases, num_clases))\n",
    "accuracy_leave_one_out = []\n",
    "\n",
    "leaveVali = leave_one_out_validation(X,Y)\n",
    "for irisX_train, irisX_test,irisY_train,irisY_test in leaveVali:\n",
    "    knn.fit(irisX_train,irisY_train)\n",
    "    predictionsLeave = knn.predict(irisX_test)\n",
    "    conf_matrix_fold = confusion_matrix(irisY_test, predictionsLeave, labels=range(num_clases))\n",
    "    conf_matrix_leave_one_out += conf_matrix_fold\n",
    "    accuracy_leave_one_out.append(accuracy_score(irisY_test, predictionsLeave))\n",
    "\n",
    "average_accuracy_leave_one_out = np.mean(accuracy_leave_one_out)\n",
    "\n",
    "print(\"\\nMatriz de Confusión - Leave-One-Out (Acumulada):\")\n",
    "print(conf_matrix_leave_one_out)\n",
    "print(\"Precisión Promedio - Leave-One-Out:\", average_accuracy_leave_one_out)"
   ]
  },
  {
   "cell_type": "code",
   "execution_count": 10,
   "id": "8ae108f2-71df-4cc2-af84-56e8918f01f2",
   "metadata": {},
   "outputs": [
    {
     "name": "stdout",
     "output_type": "stream",
     "text": [
      "Matriz de Confusión - Holdout:\n",
      "[[96 19]\n",
      " [29 63]]\n",
      "Precisión - Holdout: 0.7681159420289855\n",
      "\n",
      "Matriz de Confusión - K-Fold (Acumulada):\n",
      "[[312.  71.]\n",
      " [ 94. 213.]]\n",
      "Precisión Promedio - K-Fold: 0.7608695652173912\n",
      "\n",
      "Matriz de Confusión - Leave-One-Out (Acumulada):\n",
      "[[319.  64.]\n",
      " [ 93. 214.]]\n",
      "Precisión Promedio - Leave-One-Out: 0.7724637681159421\n"
     ]
    }
   ],
   "source": [
    "X = featuresCredit[['Debt','Married','Industry_encoded','YearsEmployed','PriorDefault','Employed','CreditScore']]\n",
    "Y = featuresCredit['Approved']\n",
    "# Validacion con holdout\n",
    "creditX_train, creditX_test,creditY_train,creditY_test = holdout_validation(X,Y)\n",
    "knn.fit(creditX_train, creditY_train)\n",
    "predictionsHold = knn.predict(creditX_test)\n",
    "\n",
    "conf_matrix_holdout = confusion_matrix(creditY_test, predictionsHold)\n",
    "accuracy_holdout = accuracy_score(creditY_test, predictionsHold)\n",
    "\n",
    "print(\"Matriz de Confusión - Holdout:\")\n",
    "print(conf_matrix_holdout)\n",
    "print(\"Precisión - Holdout:\", accuracy_holdout)\n",
    "\n",
    "# Validacion con Fold\n",
    "folds = k_fold_cross_validation(X,Y)\n",
    "conf_matrix_kfold = np.zeros((len(set(Y)), len(set(Y))))\n",
    "accuracy_kfold = []\n",
    "for creditX_train, creditX_test,creditY_train,creditY_test in folds:\n",
    "    knn.fit(creditX_train,creditY_train)\n",
    "    predictionsFold = knn.predict(creditX_test)\n",
    "    conf_matrix_kfold += confusion_matrix(creditY_test, predictionsFold)\n",
    "    accuracy_kfold.append(accuracy_score(creditY_test, predictionsFold))\n",
    "\n",
    "average_accuracy_kfold = np.mean(accuracy_kfold)\n",
    "\n",
    "print(\"\\nMatriz de Confusión - K-Fold (Acumulada):\")\n",
    "print(conf_matrix_kfold)\n",
    "print(\"Precisión Promedio - K-Fold:\", average_accuracy_kfold)\n",
    "\n",
    "\n",
    "# Validacion con Leave-One-Out\n",
    "\n",
    "num_clases = len(set(Y))\n",
    "conf_matrix_leave_one_out = np.zeros((num_clases, num_clases))\n",
    "accuracy_leave_one_out = []\n",
    "\n",
    "leaveVali = leave_one_out_validation(X,Y)\n",
    "for creditX_train, creditX_test,creditY_train,creditY_test in leaveVali:\n",
    "    knn.fit(creditX_train,creditY_train)\n",
    "    predictionsLeave = knn.predict(creditX_test)\n",
    "    conf_matrix_fold = confusion_matrix(creditY_test, predictionsLeave, labels=range(num_clases))\n",
    "    conf_matrix_leave_one_out += conf_matrix_fold\n",
    "    accuracy_leave_one_out.append(accuracy_score(creditY_test, predictionsLeave))\n",
    "\n",
    "average_accuracy_leave_one_out = np.mean(accuracy_leave_one_out)\n",
    "\n",
    "print(\"\\nMatriz de Confusión - Leave-One-Out (Acumulada):\")\n",
    "print(conf_matrix_leave_one_out)\n",
    "print(\"Precisión Promedio - Leave-One-Out:\", average_accuracy_leave_one_out)"
   ]
  },
  {
   "cell_type": "code",
   "execution_count": 11,
   "id": "9d51d126-b13a-403d-96b4-edad2e8d2283",
   "metadata": {},
   "outputs": [
    {
     "name": "stdout",
     "output_type": "stream",
     "text": [
      "Matriz de Confusión - Holdout:\n",
      "[[109   0   1   1]\n",
      " [  0  54   3   0]\n",
      " [  2   0  87   0]\n",
      " [  1   0   0  42]]\n",
      "Precisión - Holdout: 0.9733333333333334\n",
      "\n",
      "Matriz de Confusión - K-Fold (Acumulada):\n",
      "[[366.   0.   1.   4.]\n",
      " [  0. 188.   3.   0.]\n",
      " [  2.   5. 288.   0.]\n",
      " [  3.   0.   0. 140.]]\n",
      "Precisión Promedio - K-Fold: 0.982\n",
      "\n",
      "Matriz de Confusión - Leave-One-Out (Acumulada):\n",
      "[[364.   0.   3.   4.]\n",
      " [  0. 188.   3.   0.]\n",
      " [  3.   5. 287.   0.]\n",
      " [  4.   0.   0. 139.]]\n",
      "Precisión Promedio - Leave-One-Out: 0.978\n"
     ]
    }
   ],
   "source": [
    "X = featuresObesity[['Height','Weight','BMI']]\n",
    "Y = featuresObesity['ObesityCategory_encoded']\n",
    "# Validacion con holdout\n",
    "obesityX_train, obesityX_test,obesityY_train,obesityY_test = holdout_validation(X,Y)\n",
    "knn.fit(obesityX_train, obesityY_train)\n",
    "predictionsHold = knn.predict(obesityX_test)\n",
    "\n",
    "conf_matrix_holdout = confusion_matrix(obesityY_test, predictionsHold)\n",
    "accuracy_holdout = accuracy_score(obesityY_test, predictionsHold)\n",
    "\n",
    "print(\"Matriz de Confusión - Holdout:\")\n",
    "print(conf_matrix_holdout)\n",
    "print(\"Precisión - Holdout:\", accuracy_holdout)\n",
    "\n",
    "# Validacion con Fold\n",
    "folds = k_fold_cross_validation(X,Y)\n",
    "conf_matrix_kfold = np.zeros((len(set(Y)), len(set(Y))))\n",
    "accuracy_kfold = []\n",
    "for obesityX_train, obesityX_test,obesityY_train,obesityY_test in folds:\n",
    "    knn.fit(obesityX_train,obesityY_train)\n",
    "    predictionsFold = knn.predict(obesityX_test)\n",
    "    conf_matrix_kfold += confusion_matrix(obesityY_test, predictionsFold)\n",
    "    accuracy_kfold.append(accuracy_score(obesityY_test, predictionsFold))\n",
    "\n",
    "average_accuracy_kfold = np.mean(accuracy_kfold)\n",
    "\n",
    "print(\"\\nMatriz de Confusión - K-Fold (Acumulada):\")\n",
    "print(conf_matrix_kfold)\n",
    "print(\"Precisión Promedio - K-Fold:\", average_accuracy_kfold)\n",
    "\n",
    "\n",
    "# Validacion con Leave-One-Out\n",
    "num_clases = len(set(Y))\n",
    "conf_matrix_leave_one_out = np.zeros((num_clases, num_clases))\n",
    "accuracy_leave_one_out = []\n",
    "\n",
    "leaveVali = leave_one_out_validation(X,Y)\n",
    "for obesityX_train, obesityX_test,obesityY_train,obesityY_test in leaveVali:\n",
    "    knn.fit(obesityX_train,obesityY_train)\n",
    "    predictionsLeave = knn.predict(obesityX_test)\n",
    "    conf_matrix_fold = confusion_matrix(obesityY_test, predictionsLeave, labels=range(num_clases))\n",
    "    conf_matrix_leave_one_out += conf_matrix_fold\n",
    "    accuracy_leave_one_out.append(accuracy_score(obesityY_test, predictionsLeave))\n",
    "\n",
    "average_accuracy_leave_one_out = np.mean(accuracy_leave_one_out)\n",
    "\n",
    "print(\"\\nMatriz de Confusión - Leave-One-Out (Acumulada):\")\n",
    "print(conf_matrix_leave_one_out)\n",
    "print(\"Precisión Promedio - Leave-One-Out:\", average_accuracy_leave_one_out)"
   ]
  }
 ],
 "metadata": {
  "kernelspec": {
   "display_name": "Python (myenv)",
   "language": "python",
   "name": "venv"
  },
  "language_info": {
   "codemirror_mode": {
    "name": "ipython",
    "version": 3
   },
   "file_extension": ".py",
   "mimetype": "text/x-python",
   "name": "python",
   "nbconvert_exporter": "python",
   "pygments_lexer": "ipython3",
   "version": "3.12.7"
  }
 },
 "nbformat": 4,
 "nbformat_minor": 5
}
